{
 "cells": [
  {
   "cell_type": "code",
   "execution_count": null,
   "metadata": {
    "collapsed": true
   },
   "outputs": [],
   "source": [
    "import pandas as pd\n",
    "\n",
    "#Generate the training data\n",
    "#Create 3 bands having HH, HV and avg of both\n",
    "train = pd.read_json(\"../data/processed/train.json\")\n",
    "X_band_1=np.array([np.array(band).astype(np.float32).reshape(75, 75) for band in train[\"band_1\"]])\n",
    "X_band_2=np.array([np.array(band).astype(np.float32).reshape(75, 75) for band in train[\"band_2\"]])\n",
    "X_train = np.concatenate([X_band_1[:, :, :, np.newaxis], X_band_2[:, :, :, np.newaxis],((X_band_1+X_band_2)/2)[:, :, :, np.newaxis]], axis=-1)"
   ]
  },
  {
   "cell_type": "code",
   "execution_count": null,
   "metadata": {
    "collapsed": true
   },
   "outputs": [],
   "source": [
    "from matplotlib import pyplot\n",
    "from keras.preprocessing.image import ImageDataGenerator\n",
    "from keras.models import Sequential\n",
    "from keras.layers import Conv2D, MaxPooling2D, Dense, Dropout, Input, Flatten, Activation\n",
    "from keras.layers import GlobalMaxPooling2D\n",
    "from keras.layers.normalization import BatchNormalization\n",
    "from keras.layers.merge import Concatenate\n",
    "from keras.models import Model\n",
    "from keras import initializers\n",
    "from keras.optimizers import Adam\n",
    "from keras.callbacks import ModelCheckpoint, Callback, EarlyStopping\n",
    "\n",
    "gmodel=Sequential()\n",
    "#Conv Layer 1\n",
    "gmodel.add(Conv2D(64, kernel_size=(3, 3),activation='relu', input_shape=(75, 75, 3)))\n",
    "gmodel.add(MaxPooling2D(pool_size=(3, 3), strides=(2, 2)))\n",
    "gmodel.add(Dropout(0.2))\n",
    "\n",
    "#Conv Layer 2\n",
    "gmodel.add(Conv2D(128, kernel_size=(3, 3), activation='relu' ))\n",
    "gmodel.add(MaxPooling2D(pool_size=(2, 2), strides=(2, 2)))\n",
    "gmodel.add(Dropout(0.2))\n",
    "\n",
    "#Conv Layer 3\n",
    "gmodel.add(Conv2D(128, kernel_size=(3, 3), activation='relu'))\n",
    "gmodel.add(MaxPooling2D(pool_size=(2, 2), strides=(2, 2)))\n",
    "gmodel.add(Dropout(0.2))\n",
    "\n",
    "#Conv Layer 4\n",
    "gmodel.add(Conv2D(64, kernel_size=(3, 3), activation='relu'))\n",
    "gmodel.add(MaxPooling2D(pool_size=(2, 2), strides=(2, 2)))\n",
    "gmodel.add(Dropout(0.2))\n",
    "\n",
    "#Flatten the data for upcoming dense layers\n",
    "gmodel.add(Flatten())\n",
    "\n",
    "#Dense Layers\n",
    "gmodel.add(Dense(512))\n",
    "gmodel.add(Activation('relu'))\n",
    "gmodel.add(Dropout(0.2))\n",
    "\n",
    "#Dense Layer 2\n",
    "gmodel.add(Dense(256))\n",
    "gmodel.add(Activation('relu'))\n",
    "gmodel.add(Dropout(0.2))\n",
    "\n",
    "#Sigmoid Layer\n",
    "gmodel.add(Dense(1))\n",
    "gmodel.add(Activation('sigmoid'))\n",
    "\n",
    "mypotim=Adam(lr=0.001, beta_1=0.9, beta_2=0.999, epsilon=1e-08, decay=0.0)\n",
    "gmodel.compile(loss='binary_crossentropy',\n",
    "              optimizer=mypotim,\n",
    "              metrics=['accuracy'])\n",
    "gmodel.summary()"
   ]
  },
  {
   "cell_type": "code",
   "execution_count": null,
   "metadata": {
    "collapsed": true
   },
   "outputs": [],
   "source": [
    "target_train=train['is_iceberg']\n",
    "X_train_cv, X_valid, y_train_cv, y_valid = train_test_split(X_train, target_train, random_state=1, train_size=0.75)"
   ]
  },
  {
   "cell_type": "code",
   "execution_count": null,
   "metadata": {
    "collapsed": true
   },
   "outputs": [],
   "source": [
    "def get_callbacks(filepath, patience=2):\n",
    "    es = EarlyStopping('val_loss', patience=patience, mode=\"min\")\n",
    "    msave = ModelCheckpoint(filepath, save_best_only=True)\n",
    "    return [es, msave]\n",
    "file_path = \".model_weights.hdf5\"\n",
    "callbacks = get_callbacks(filepath=file_path, patience=5)"
   ]
  },
  {
   "cell_type": "code",
   "execution_count": null,
   "metadata": {
    "collapsed": true
   },
   "outputs": [],
   "source": [
    "import os\n",
    "\n",
    "gmodel.fit(X_train_cv, y_train_cv,\n",
    "          batch_size=24,\n",
    "          epochs=50,\n",
    "          verbose=1,\n",
    "          validation_data=(X_valid, y_valid),\n",
    "          callbacks=callbacks)"
   ]
  }
 ],
 "metadata": {
  "kernelspec": {
   "display_name": "Python 3",
   "language": "python",
   "name": "python3"
  },
  "language_info": {
   "codemirror_mode": {
    "name": "ipython",
    "version": 3
   },
   "file_extension": ".py",
   "mimetype": "text/x-python",
   "name": "python",
   "nbconvert_exporter": "python",
   "pygments_lexer": "ipython3",
   "version": "3.5.1"
  }
 },
 "nbformat": 4,
 "nbformat_minor": 2
}
